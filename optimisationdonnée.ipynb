{
 "cells": [
  {
   "cell_type": "code",
   "execution_count": 251,
   "metadata": {},
   "outputs": [],
   "source": [
    "import pandas as pd\n",
    "import numpy as np\n",
    "import matplotlib.pyplot as plt\n",
    "from matplotlib import cm \n",
    "from matplotlib.patches import Polygon"
   ]
  },
  {
   "attachments": {},
   "cell_type": "markdown",
   "metadata": {},
   "source": [
    "# Lectures des fichiers "
   ]
  },
  {
   "cell_type": "code",
   "execution_count": 252,
   "metadata": {},
   "outputs": [
    {
     "name": "stderr",
     "output_type": "stream",
     "text": [
      "c:\\Users\\ikram\\AppData\\Local\\Programs\\Python\\Python310\\lib\\site-packages\\openpyxl\\worksheet\\_reader.py:312: UserWarning: Unknown extension is not supported and will be removed\n",
      "  warn(msg)\n",
      "c:\\Users\\ikram\\AppData\\Local\\Programs\\Python\\Python310\\lib\\site-packages\\openpyxl\\worksheet\\_reader.py:312: UserWarning: Unknown extension is not supported and will be removed\n",
      "  warn(msg)\n",
      "c:\\Users\\ikram\\AppData\\Local\\Programs\\Python\\Python310\\lib\\site-packages\\openpyxl\\worksheet\\_reader.py:312: UserWarning: Unknown extension is not supported and will be removed\n",
      "  warn(msg)\n"
     ]
    }
   ],
   "source": [
    "dferp = pd.read_excel('erp.xlsx')\n",
    "dfliaison = pd.read_excel('liaison.xlsx')\n",
    "dfweb = pd.read_excel('web.xlsx')"
   ]
  },
  {
   "cell_type": "code",
   "execution_count": 253,
   "metadata": {},
   "outputs": [
    {
     "data": {
      "text/html": [
       "<div>\n",
       "<style scoped>\n",
       "    .dataframe tbody tr th:only-of-type {\n",
       "        vertical-align: middle;\n",
       "    }\n",
       "\n",
       "    .dataframe tbody tr th {\n",
       "        vertical-align: top;\n",
       "    }\n",
       "\n",
       "    .dataframe thead th {\n",
       "        text-align: right;\n",
       "    }\n",
       "</style>\n",
       "<table border=\"1\" class=\"dataframe\">\n",
       "  <thead>\n",
       "    <tr style=\"text-align: right;\">\n",
       "      <th></th>\n",
       "      <th>product_id</th>\n",
       "      <th>onsale_web</th>\n",
       "      <th>price</th>\n",
       "      <th>stock_quantity</th>\n",
       "      <th>stock_status</th>\n",
       "    </tr>\n",
       "  </thead>\n",
       "  <tbody>\n",
       "    <tr>\n",
       "      <th>0</th>\n",
       "      <td>3847</td>\n",
       "      <td>1</td>\n",
       "      <td>24.2</td>\n",
       "      <td>0</td>\n",
       "      <td>outofstock</td>\n",
       "    </tr>\n",
       "    <tr>\n",
       "      <th>1</th>\n",
       "      <td>3849</td>\n",
       "      <td>1</td>\n",
       "      <td>34.3</td>\n",
       "      <td>0</td>\n",
       "      <td>outofstock</td>\n",
       "    </tr>\n",
       "    <tr>\n",
       "      <th>2</th>\n",
       "      <td>3850</td>\n",
       "      <td>1</td>\n",
       "      <td>20.8</td>\n",
       "      <td>0</td>\n",
       "      <td>outofstock</td>\n",
       "    </tr>\n",
       "    <tr>\n",
       "      <th>3</th>\n",
       "      <td>4032</td>\n",
       "      <td>1</td>\n",
       "      <td>14.1</td>\n",
       "      <td>0</td>\n",
       "      <td>outofstock</td>\n",
       "    </tr>\n",
       "    <tr>\n",
       "      <th>4</th>\n",
       "      <td>4039</td>\n",
       "      <td>1</td>\n",
       "      <td>46.0</td>\n",
       "      <td>0</td>\n",
       "      <td>outofstock</td>\n",
       "    </tr>\n",
       "    <tr>\n",
       "      <th>...</th>\n",
       "      <td>...</td>\n",
       "      <td>...</td>\n",
       "      <td>...</td>\n",
       "      <td>...</td>\n",
       "      <td>...</td>\n",
       "    </tr>\n",
       "    <tr>\n",
       "      <th>820</th>\n",
       "      <td>7203</td>\n",
       "      <td>0</td>\n",
       "      <td>45.0</td>\n",
       "      <td>30</td>\n",
       "      <td>instock</td>\n",
       "    </tr>\n",
       "    <tr>\n",
       "      <th>821</th>\n",
       "      <td>7204</td>\n",
       "      <td>0</td>\n",
       "      <td>45.0</td>\n",
       "      <td>9</td>\n",
       "      <td>instock</td>\n",
       "    </tr>\n",
       "    <tr>\n",
       "      <th>822</th>\n",
       "      <td>7247</td>\n",
       "      <td>1</td>\n",
       "      <td>54.8</td>\n",
       "      <td>23</td>\n",
       "      <td>instock</td>\n",
       "    </tr>\n",
       "    <tr>\n",
       "      <th>823</th>\n",
       "      <td>7329</td>\n",
       "      <td>0</td>\n",
       "      <td>26.5</td>\n",
       "      <td>14</td>\n",
       "      <td>instock</td>\n",
       "    </tr>\n",
       "    <tr>\n",
       "      <th>824</th>\n",
       "      <td>7338</td>\n",
       "      <td>1</td>\n",
       "      <td>16.3</td>\n",
       "      <td>45</td>\n",
       "      <td>instock</td>\n",
       "    </tr>\n",
       "  </tbody>\n",
       "</table>\n",
       "<p>825 rows × 5 columns</p>\n",
       "</div>"
      ],
      "text/plain": [
       "     product_id  onsale_web  price  stock_quantity stock_status\n",
       "0          3847           1   24.2               0   outofstock\n",
       "1          3849           1   34.3               0   outofstock\n",
       "2          3850           1   20.8               0   outofstock\n",
       "3          4032           1   14.1               0   outofstock\n",
       "4          4039           1   46.0               0   outofstock\n",
       "..          ...         ...    ...             ...          ...\n",
       "820        7203           0   45.0              30      instock\n",
       "821        7204           0   45.0               9      instock\n",
       "822        7247           1   54.8              23      instock\n",
       "823        7329           0   26.5              14      instock\n",
       "824        7338           1   16.3              45      instock\n",
       "\n",
       "[825 rows x 5 columns]"
      ]
     },
     "execution_count": 253,
     "metadata": {},
     "output_type": "execute_result"
    }
   ],
   "source": [
    "dferp"
   ]
  },
  {
   "cell_type": "markdown",
   "metadata": {},
   "source": [
    "# Vérification de la présences des données dans les colonnes"
   ]
  },
  {
   "cell_type": "code",
   "execution_count": 254,
   "metadata": {},
   "outputs": [
    {
     "name": "stdout",
     "output_type": "stream",
     "text": [
      "rating [0] downloadable [0] average [ 0. nan] virtual [0] post_password [nan] post_content_filtered [nan] post_parent [ 0. nan] menu_order [ 0. nan] post_mime_type [nan 'image/jpeg'] comment_count [ 0. nan]\n"
     ]
    }
   ],
   "source": [
    "pd.pandas.set_option('display.max_columns', None)\n",
    "print(\"rating\",dfweb.rating_count.unique(),\"downloadable\",dfweb.downloadable.unique(),\"average\",dfweb.average_rating.unique(),\"virtual\",dfweb.virtual.unique()\n",
    ",\"post_password\",dfweb.post_password.unique(),\"post_content_filtered\",dfweb.post_content_filtered.unique(),\"post_parent\",dfweb.post_parent.unique(),\"menu_order\",dfweb.menu_order.unique(),\n",
    "\"post_mime_type\",dfweb.post_mime_type.unique(),\"comment_count\",dfweb.comment_count.unique())\n"
   ]
  },
  {
   "cell_type": "markdown",
   "metadata": {},
   "source": [
    "# Suppression des colonnes vides "
   ]
  },
  {
   "cell_type": "code",
   "execution_count": 255,
   "metadata": {},
   "outputs": [],
   "source": [
    "dfweb.drop(columns=[\"tax_status\",\"tax_class\",\"post_excerpt\",\"post_content\",\"guid\",\"downloadable\",\"rating_count\",\"downloadable\",\"average_rating\",\"virtual\",\"post_password\",\"post_content_filtered\",\"post_parent\",\"menu_order\",\"post_mime_type\",\"comment_count\",\"post_date_gmt\",\"post_modified_gmt\"], axis=0, inplace=True)"
   ]
  },
  {
   "cell_type": "code",
   "execution_count": 256,
   "metadata": {},
   "outputs": [
    {
     "data": {
      "text/html": [
       "<div>\n",
       "<style scoped>\n",
       "    .dataframe tbody tr th:only-of-type {\n",
       "        vertical-align: middle;\n",
       "    }\n",
       "\n",
       "    .dataframe tbody tr th {\n",
       "        vertical-align: top;\n",
       "    }\n",
       "\n",
       "    .dataframe thead th {\n",
       "        text-align: right;\n",
       "    }\n",
       "</style>\n",
       "<table border=\"1\" class=\"dataframe\">\n",
       "  <thead>\n",
       "    <tr style=\"text-align: right;\">\n",
       "      <th></th>\n",
       "      <th>sku</th>\n",
       "      <th>total_sales</th>\n",
       "      <th>post_author</th>\n",
       "      <th>post_date</th>\n",
       "      <th>post_title</th>\n",
       "      <th>post_status</th>\n",
       "      <th>comment_status</th>\n",
       "      <th>ping_status</th>\n",
       "      <th>post_name</th>\n",
       "      <th>post_modified</th>\n",
       "      <th>post_type</th>\n",
       "    </tr>\n",
       "  </thead>\n",
       "  <tbody>\n",
       "    <tr>\n",
       "      <th>0</th>\n",
       "      <td>bon-cadeau-25-euros</td>\n",
       "      <td>10.0</td>\n",
       "      <td>1.0</td>\n",
       "      <td>2018-06-01 13:53:46</td>\n",
       "      <td>Bon cadeau de 25€</td>\n",
       "      <td>publish</td>\n",
       "      <td>closed</td>\n",
       "      <td>closed</td>\n",
       "      <td>bon-cadeau-de-25-euros</td>\n",
       "      <td>2018-06-01 14:13:57</td>\n",
       "      <td>product</td>\n",
       "    </tr>\n",
       "    <tr>\n",
       "      <th>1</th>\n",
       "      <td>15298</td>\n",
       "      <td>6.0</td>\n",
       "      <td>2.0</td>\n",
       "      <td>2018-02-08 12:58:52</td>\n",
       "      <td>Pierre Jean Villa Saint-Joseph Préface 2018</td>\n",
       "      <td>publish</td>\n",
       "      <td>closed</td>\n",
       "      <td>closed</td>\n",
       "      <td>pierre-jean-villa-saint-joseph-preface-2018</td>\n",
       "      <td>2019-12-30 09:30:29</td>\n",
       "      <td>product</td>\n",
       "    </tr>\n",
       "    <tr>\n",
       "      <th>2</th>\n",
       "      <td>15296</td>\n",
       "      <td>0.0</td>\n",
       "      <td>2.0</td>\n",
       "      <td>2018-02-08 13:49:41</td>\n",
       "      <td>Pierre Jean Villa Saint-Joseph Rouge Tildé 2017</td>\n",
       "      <td>publish</td>\n",
       "      <td>closed</td>\n",
       "      <td>closed</td>\n",
       "      <td>pierre-jean-villa-saint-joseph-tilde-2017</td>\n",
       "      <td>2019-12-21 09:00:17</td>\n",
       "      <td>product</td>\n",
       "    </tr>\n",
       "    <tr>\n",
       "      <th>3</th>\n",
       "      <td>15300</td>\n",
       "      <td>0.0</td>\n",
       "      <td>2.0</td>\n",
       "      <td>2018-02-08 14:08:36</td>\n",
       "      <td>Pierre Jean Villa Crozes-Hermitage Accroche Co...</td>\n",
       "      <td>publish</td>\n",
       "      <td>closed</td>\n",
       "      <td>closed</td>\n",
       "      <td>pierre-jean-villa-croze-hermitage-accroche-coe...</td>\n",
       "      <td>2020-06-26 18:15:03</td>\n",
       "      <td>product</td>\n",
       "    </tr>\n",
       "    <tr>\n",
       "      <th>4</th>\n",
       "      <td>19814</td>\n",
       "      <td>3.0</td>\n",
       "      <td>2.0</td>\n",
       "      <td>2018-02-09 14:01:05</td>\n",
       "      <td>Pierre Jean Villa IGP Collines Rhodaniennes Ga...</td>\n",
       "      <td>publish</td>\n",
       "      <td>closed</td>\n",
       "      <td>closed</td>\n",
       "      <td>pierre-jean-villa-igp-gamine-2018</td>\n",
       "      <td>2020-01-04 16:36:01</td>\n",
       "      <td>product</td>\n",
       "    </tr>\n",
       "  </tbody>\n",
       "</table>\n",
       "</div>"
      ],
      "text/plain": [
       "                   sku  total_sales  post_author           post_date  \\\n",
       "0  bon-cadeau-25-euros         10.0          1.0 2018-06-01 13:53:46   \n",
       "1                15298          6.0          2.0 2018-02-08 12:58:52   \n",
       "2                15296          0.0          2.0 2018-02-08 13:49:41   \n",
       "3                15300          0.0          2.0 2018-02-08 14:08:36   \n",
       "4                19814          3.0          2.0 2018-02-09 14:01:05   \n",
       "\n",
       "                                          post_title post_status  \\\n",
       "0                                  Bon cadeau de 25€     publish   \n",
       "1        Pierre Jean Villa Saint-Joseph Préface 2018     publish   \n",
       "2    Pierre Jean Villa Saint-Joseph Rouge Tildé 2017     publish   \n",
       "3  Pierre Jean Villa Crozes-Hermitage Accroche Co...     publish   \n",
       "4  Pierre Jean Villa IGP Collines Rhodaniennes Ga...     publish   \n",
       "\n",
       "  comment_status ping_status  \\\n",
       "0         closed      closed   \n",
       "1         closed      closed   \n",
       "2         closed      closed   \n",
       "3         closed      closed   \n",
       "4         closed      closed   \n",
       "\n",
       "                                           post_name       post_modified  \\\n",
       "0                             bon-cadeau-de-25-euros 2018-06-01 14:13:57   \n",
       "1        pierre-jean-villa-saint-joseph-preface-2018 2019-12-30 09:30:29   \n",
       "2          pierre-jean-villa-saint-joseph-tilde-2017 2019-12-21 09:00:17   \n",
       "3  pierre-jean-villa-croze-hermitage-accroche-coe... 2020-06-26 18:15:03   \n",
       "4                  pierre-jean-villa-igp-gamine-2018 2020-01-04 16:36:01   \n",
       "\n",
       "  post_type  \n",
       "0   product  \n",
       "1   product  \n",
       "2   product  \n",
       "3   product  \n",
       "4   product  "
      ]
     },
     "execution_count": 256,
     "metadata": {},
     "output_type": "execute_result"
    }
   ],
   "source": [
    "pd.pandas.set_option('display.max_columns', None)\n",
    "dfweb.head()"
   ]
  },
  {
   "cell_type": "markdown",
   "metadata": {},
   "source": [
    "re-nom de la colonne id_web "
   ]
  },
  {
   "cell_type": "code",
   "execution_count": 257,
   "metadata": {},
   "outputs": [],
   "source": [
    "dfliaison = dfliaison.rename(columns = {'id_web = SKU': 'sku'})"
   ]
  },
  {
   "cell_type": "markdown",
   "metadata": {},
   "source": [
    "jointure complete"
   ]
  },
  {
   "cell_type": "code",
   "execution_count": 258,
   "metadata": {},
   "outputs": [],
   "source": [
    "df_inner = pd.merge(dfliaison, dferp, how='outer', indicator= True)"
   ]
  },
  {
   "attachments": {},
   "cell_type": "markdown",
   "metadata": {},
   "source": [
    "Vérifie que les valeurs sont présentent dans les deux dataframe "
   ]
  },
  {
   "cell_type": "code",
   "execution_count": 259,
   "metadata": {},
   "outputs": [
    {
     "data": {
      "text/html": [
       "<div>\n",
       "<style scoped>\n",
       "    .dataframe tbody tr th:only-of-type {\n",
       "        vertical-align: middle;\n",
       "    }\n",
       "\n",
       "    .dataframe tbody tr th {\n",
       "        vertical-align: top;\n",
       "    }\n",
       "\n",
       "    .dataframe thead th {\n",
       "        text-align: right;\n",
       "    }\n",
       "</style>\n",
       "<table border=\"1\" class=\"dataframe\">\n",
       "  <thead>\n",
       "    <tr style=\"text-align: right;\">\n",
       "      <th></th>\n",
       "      <th>product_id</th>\n",
       "      <th>sku</th>\n",
       "      <th>onsale_web</th>\n",
       "      <th>price</th>\n",
       "      <th>stock_quantity</th>\n",
       "      <th>stock_status</th>\n",
       "      <th>_merge</th>\n",
       "    </tr>\n",
       "  </thead>\n",
       "  <tbody>\n",
       "    <tr>\n",
       "      <th>0</th>\n",
       "      <td>3847</td>\n",
       "      <td>15298</td>\n",
       "      <td>1</td>\n",
       "      <td>24.2</td>\n",
       "      <td>0</td>\n",
       "      <td>outofstock</td>\n",
       "      <td>both</td>\n",
       "    </tr>\n",
       "    <tr>\n",
       "      <th>1</th>\n",
       "      <td>3849</td>\n",
       "      <td>15296</td>\n",
       "      <td>1</td>\n",
       "      <td>34.3</td>\n",
       "      <td>0</td>\n",
       "      <td>outofstock</td>\n",
       "      <td>both</td>\n",
       "    </tr>\n",
       "    <tr>\n",
       "      <th>2</th>\n",
       "      <td>3850</td>\n",
       "      <td>15300</td>\n",
       "      <td>1</td>\n",
       "      <td>20.8</td>\n",
       "      <td>0</td>\n",
       "      <td>outofstock</td>\n",
       "      <td>both</td>\n",
       "    </tr>\n",
       "    <tr>\n",
       "      <th>3</th>\n",
       "      <td>4032</td>\n",
       "      <td>19814</td>\n",
       "      <td>1</td>\n",
       "      <td>14.1</td>\n",
       "      <td>0</td>\n",
       "      <td>outofstock</td>\n",
       "      <td>both</td>\n",
       "    </tr>\n",
       "    <tr>\n",
       "      <th>4</th>\n",
       "      <td>4039</td>\n",
       "      <td>19815</td>\n",
       "      <td>1</td>\n",
       "      <td>46.0</td>\n",
       "      <td>0</td>\n",
       "      <td>outofstock</td>\n",
       "      <td>both</td>\n",
       "    </tr>\n",
       "  </tbody>\n",
       "</table>\n",
       "</div>"
      ],
      "text/plain": [
       "   product_id    sku  onsale_web  price  stock_quantity stock_status _merge\n",
       "0        3847  15298           1   24.2               0   outofstock   both\n",
       "1        3849  15296           1   34.3               0   outofstock   both\n",
       "2        3850  15300           1   20.8               0   outofstock   both\n",
       "3        4032  19814           1   14.1               0   outofstock   both\n",
       "4        4039  19815           1   46.0               0   outofstock   both"
      ]
     },
     "execution_count": 259,
     "metadata": {},
     "output_type": "execute_result"
    }
   ],
   "source": [
    "df_inner.head()"
   ]
  },
  {
   "attachments": {},
   "cell_type": "markdown",
   "metadata": {},
   "source": [
    "Je vérifie que j'ai bien \"both\" partout"
   ]
  },
  {
   "cell_type": "code",
   "execution_count": 260,
   "metadata": {},
   "outputs": [
    {
     "data": {
      "text/html": [
       "<div>\n",
       "<style scoped>\n",
       "    .dataframe tbody tr th:only-of-type {\n",
       "        vertical-align: middle;\n",
       "    }\n",
       "\n",
       "    .dataframe tbody tr th {\n",
       "        vertical-align: top;\n",
       "    }\n",
       "\n",
       "    .dataframe thead th {\n",
       "        text-align: right;\n",
       "    }\n",
       "</style>\n",
       "<table border=\"1\" class=\"dataframe\">\n",
       "  <thead>\n",
       "    <tr style=\"text-align: right;\">\n",
       "      <th></th>\n",
       "      <th>product_id</th>\n",
       "      <th>sku</th>\n",
       "      <th>onsale_web</th>\n",
       "      <th>price</th>\n",
       "      <th>stock_quantity</th>\n",
       "      <th>stock_status</th>\n",
       "      <th>_merge</th>\n",
       "    </tr>\n",
       "  </thead>\n",
       "  <tbody>\n",
       "  </tbody>\n",
       "</table>\n",
       "</div>"
      ],
      "text/plain": [
       "Empty DataFrame\n",
       "Columns: [product_id, sku, onsale_web, price, stock_quantity, stock_status, _merge]\n",
       "Index: []"
      ]
     },
     "execution_count": 260,
     "metadata": {},
     "output_type": "execute_result"
    }
   ],
   "source": [
    "df_inner[df_inner[\"_merge\"] != \"both\"]"
   ]
  },
  {
   "attachments": {},
   "cell_type": "markdown",
   "metadata": {},
   "source": [
    "Seconde liaison "
   ]
  },
  {
   "cell_type": "code",
   "execution_count": 261,
   "metadata": {},
   "outputs": [],
   "source": [
    "df_inner2= pd.merge(df_inner,dfweb, on='sku',how='inner')"
   ]
  },
  {
   "cell_type": "markdown",
   "metadata": {},
   "source": [
    "organise mon df par ordre croissant"
   ]
  },
  {
   "cell_type": "code",
   "execution_count": 262,
   "metadata": {},
   "outputs": [],
   "source": [
    "df_inner2 = df_inner2.sort_values(by = 'price', ascending = True)"
   ]
  },
  {
   "cell_type": "markdown",
   "metadata": {},
   "source": [
    "je calcul le chiffre d'affaire pour chaque produit"
   ]
  },
  {
   "cell_type": "code",
   "execution_count": 263,
   "metadata": {},
   "outputs": [],
   "source": [
    "chiffreaffaire = df_inner2[\"price\"]*df_inner2[\"total_sales\"]"
   ]
  },
  {
   "attachments": {},
   "cell_type": "markdown",
   "metadata": {},
   "source": [
    "J'inser ma variable dans mon dataframe"
   ]
  },
  {
   "cell_type": "code",
   "execution_count": 264,
   "metadata": {},
   "outputs": [],
   "source": [
    "df_inner2.insert(column = 'chiffre_d_affaire', value = chiffreaffaire, loc=3)"
   ]
  },
  {
   "cell_type": "code",
   "execution_count": 265,
   "metadata": {},
   "outputs": [
    {
     "data": {
      "text/html": [
       "<div>\n",
       "<style scoped>\n",
       "    .dataframe tbody tr th:only-of-type {\n",
       "        vertical-align: middle;\n",
       "    }\n",
       "\n",
       "    .dataframe tbody tr th {\n",
       "        vertical-align: top;\n",
       "    }\n",
       "\n",
       "    .dataframe thead th {\n",
       "        text-align: right;\n",
       "    }\n",
       "</style>\n",
       "<table border=\"1\" class=\"dataframe\">\n",
       "  <thead>\n",
       "    <tr style=\"text-align: right;\">\n",
       "      <th></th>\n",
       "      <th>product_id</th>\n",
       "      <th>sku</th>\n",
       "      <th>onsale_web</th>\n",
       "      <th>chiffre_d_affaire</th>\n",
       "      <th>price</th>\n",
       "      <th>stock_quantity</th>\n",
       "      <th>stock_status</th>\n",
       "      <th>_merge</th>\n",
       "      <th>total_sales</th>\n",
       "      <th>post_author</th>\n",
       "      <th>post_date</th>\n",
       "      <th>post_title</th>\n",
       "      <th>post_status</th>\n",
       "      <th>comment_status</th>\n",
       "      <th>ping_status</th>\n",
       "      <th>post_name</th>\n",
       "      <th>post_modified</th>\n",
       "      <th>post_type</th>\n",
       "    </tr>\n",
       "  </thead>\n",
       "  <tbody>\n",
       "    <tr>\n",
       "      <th>9026</th>\n",
       "      <td>6129</td>\n",
       "      <td>14570</td>\n",
       "      <td>1</td>\n",
       "      <td>0.0</td>\n",
       "      <td>5.2</td>\n",
       "      <td>30</td>\n",
       "      <td>instock</td>\n",
       "      <td>both</td>\n",
       "      <td>0.0</td>\n",
       "      <td>2.0</td>\n",
       "      <td>2019-06-28 18:01:06</td>\n",
       "      <td>Moulin de Gassac IGP Pays d'Hérault Guilhem Bl...</td>\n",
       "      <td>publish</td>\n",
       "      <td>closed</td>\n",
       "      <td>closed</td>\n",
       "      <td>moulin-de-gassac-igp-pays-dherault-guilhem-bla...</td>\n",
       "      <td>2020-08-26 15:55:02</td>\n",
       "      <td>attachment</td>\n",
       "    </tr>\n",
       "    <tr>\n",
       "      <th>9025</th>\n",
       "      <td>6129</td>\n",
       "      <td>14570</td>\n",
       "      <td>1</td>\n",
       "      <td>0.0</td>\n",
       "      <td>5.2</td>\n",
       "      <td>30</td>\n",
       "      <td>instock</td>\n",
       "      <td>both</td>\n",
       "      <td>0.0</td>\n",
       "      <td>2.0</td>\n",
       "      <td>2019-06-28 18:01:06</td>\n",
       "      <td>Moulin de Gassac IGP Pays d'Hérault Guilhem Bl...</td>\n",
       "      <td>publish</td>\n",
       "      <td>closed</td>\n",
       "      <td>closed</td>\n",
       "      <td>moulin-de-gassac-igp-pays-dherault-guilhem-bla...</td>\n",
       "      <td>2020-08-26 15:55:02</td>\n",
       "      <td>product</td>\n",
       "    </tr>\n",
       "    <tr>\n",
       "      <th>7930</th>\n",
       "      <td>4172</td>\n",
       "      <td>16210</td>\n",
       "      <td>1</td>\n",
       "      <td>245.1</td>\n",
       "      <td>5.7</td>\n",
       "      <td>167</td>\n",
       "      <td>instock</td>\n",
       "      <td>both</td>\n",
       "      <td>43.0</td>\n",
       "      <td>2.0</td>\n",
       "      <td>2018-02-14 16:54:33</td>\n",
       "      <td>Maurel Pays d'Oc Chardonnay 2019</td>\n",
       "      <td>publish</td>\n",
       "      <td>closed</td>\n",
       "      <td>closed</td>\n",
       "      <td>maurel-pays-oc-chardonnay-2019</td>\n",
       "      <td>2020-08-27 15:35:02</td>\n",
       "      <td>attachment</td>\n",
       "    </tr>\n",
       "    <tr>\n",
       "      <th>7931</th>\n",
       "      <td>4173</td>\n",
       "      <td>16211</td>\n",
       "      <td>1</td>\n",
       "      <td>74.1</td>\n",
       "      <td>5.7</td>\n",
       "      <td>100</td>\n",
       "      <td>instock</td>\n",
       "      <td>both</td>\n",
       "      <td>13.0</td>\n",
       "      <td>2.0</td>\n",
       "      <td>2018-02-14 17:10:39</td>\n",
       "      <td>Maurel Pays d'Oc Chenin-Colombard 2019</td>\n",
       "      <td>publish</td>\n",
       "      <td>closed</td>\n",
       "      <td>closed</td>\n",
       "      <td>maurel-pays-doc-chenin-colombard-2019</td>\n",
       "      <td>2020-08-07 17:35:03</td>\n",
       "      <td>product</td>\n",
       "    </tr>\n",
       "    <tr>\n",
       "      <th>8855</th>\n",
       "      <td>5777</td>\n",
       "      <td>14338</td>\n",
       "      <td>1</td>\n",
       "      <td>0.0</td>\n",
       "      <td>5.7</td>\n",
       "      <td>132</td>\n",
       "      <td>instock</td>\n",
       "      <td>both</td>\n",
       "      <td>0.0</td>\n",
       "      <td>2.0</td>\n",
       "      <td>2019-03-15 10:13:30</td>\n",
       "      <td>Maurel Pays d'Oc Cabernet-Sauvignon 2017</td>\n",
       "      <td>publish</td>\n",
       "      <td>closed</td>\n",
       "      <td>closed</td>\n",
       "      <td>maurel-pays-d-oc-cabernet-sauvignon-2017</td>\n",
       "      <td>2020-03-11 09:30:06</td>\n",
       "      <td>product</td>\n",
       "    </tr>\n",
       "  </tbody>\n",
       "</table>\n",
       "</div>"
      ],
      "text/plain": [
       "      product_id    sku  onsale_web  chiffre_d_affaire  price  stock_quantity  \\\n",
       "9026        6129  14570           1                0.0    5.2              30   \n",
       "9025        6129  14570           1                0.0    5.2              30   \n",
       "7930        4172  16210           1              245.1    5.7             167   \n",
       "7931        4173  16211           1               74.1    5.7             100   \n",
       "8855        5777  14338           1                0.0    5.7             132   \n",
       "\n",
       "     stock_status _merge  total_sales  post_author           post_date  \\\n",
       "9026      instock   both          0.0          2.0 2019-06-28 18:01:06   \n",
       "9025      instock   both          0.0          2.0 2019-06-28 18:01:06   \n",
       "7930      instock   both         43.0          2.0 2018-02-14 16:54:33   \n",
       "7931      instock   both         13.0          2.0 2018-02-14 17:10:39   \n",
       "8855      instock   both          0.0          2.0 2019-03-15 10:13:30   \n",
       "\n",
       "                                             post_title post_status  \\\n",
       "9026  Moulin de Gassac IGP Pays d'Hérault Guilhem Bl...     publish   \n",
       "9025  Moulin de Gassac IGP Pays d'Hérault Guilhem Bl...     publish   \n",
       "7930                   Maurel Pays d'Oc Chardonnay 2019     publish   \n",
       "7931             Maurel Pays d'Oc Chenin-Colombard 2019     publish   \n",
       "8855           Maurel Pays d'Oc Cabernet-Sauvignon 2017     publish   \n",
       "\n",
       "     comment_status ping_status  \\\n",
       "9026         closed      closed   \n",
       "9025         closed      closed   \n",
       "7930         closed      closed   \n",
       "7931         closed      closed   \n",
       "8855         closed      closed   \n",
       "\n",
       "                                              post_name       post_modified  \\\n",
       "9026  moulin-de-gassac-igp-pays-dherault-guilhem-bla... 2020-08-26 15:55:02   \n",
       "9025  moulin-de-gassac-igp-pays-dherault-guilhem-bla... 2020-08-26 15:55:02   \n",
       "7930                     maurel-pays-oc-chardonnay-2019 2020-08-27 15:35:02   \n",
       "7931              maurel-pays-doc-chenin-colombard-2019 2020-08-07 17:35:03   \n",
       "8855           maurel-pays-d-oc-cabernet-sauvignon-2017 2020-03-11 09:30:06   \n",
       "\n",
       "       post_type  \n",
       "9026  attachment  \n",
       "9025     product  \n",
       "7930  attachment  \n",
       "7931     product  \n",
       "8855     product  "
      ]
     },
     "execution_count": 265,
     "metadata": {},
     "output_type": "execute_result"
    }
   ],
   "source": [
    "df_inner2.head()"
   ]
  },
  {
   "cell_type": "markdown",
   "metadata": {},
   "source": [
    "Je récupère seulement les produits vendus en ligne avec le type = product"
   ]
  },
  {
   "cell_type": "code",
   "execution_count": 266,
   "metadata": {},
   "outputs": [],
   "source": [
    "dfventeweb = df_inner2[df_inner2[\"onsale_web\"] != 0]\n",
    "dfventeweb = df_inner2[df_inner2[\"post_type\"] == \"product\"]"
   ]
  },
  {
   "cell_type": "code",
   "execution_count": 267,
   "metadata": {},
   "outputs": [
    {
     "name": "stdout",
     "output_type": "stream",
     "text": [
      "le chiffre d'affaire des vente en ligne et de :  70568.6 €\n"
     ]
    }
   ],
   "source": [
    "print(\"le chiffre d'affaire des vente en ligne et de : \",round(dfventeweb.chiffre_d_affaire.sum(),2),\"€\")"
   ]
  },
  {
   "attachments": {},
   "cell_type": "markdown",
   "metadata": {},
   "source": [
    "Graphique en point du prix des produits"
   ]
  },
  {
   "cell_type": "code",
   "execution_count": 268,
   "metadata": {},
   "outputs": [
    {
     "data": {
      "image/png": "[encoded data removed]",
      "text/plain": [
       "<Figure size 640x480 with 1 Axes>"
      ]
     },
     "metadata": {},
     "output_type": "display_data"
    }
   ],
   "source": [
    "plt.scatter(dfventeweb[\"price\"],dfventeweb[\"product_id\"],label=\"prix en €\")\n",
    "plt.title(\"Représentation graphique de la répartiton du prix des produits\")\n",
    "plt.legend()\n",
    "plt.show()"
   ]
  },
  {
   "cell_type": "markdown",
   "metadata": {},
   "source": [
    "## Calcul de l'écart-type"
   ]
  },
  {
   "cell_type": "code",
   "execution_count": 269,
   "metadata": {},
   "outputs": [
    {
     "name": "stdout",
     "output_type": "stream",
     "text": [
      "ecart_type =  26.401321320070902\n"
     ]
    }
   ],
   "source": [
    "std = dfventeweb[\"price\"].std()\n",
    "print(\"ecart_type = \", std)"
   ]
  },
  {
   "cell_type": "markdown",
   "metadata": {},
   "source": [
    "## Calcul de la moyenne "
   ]
  },
  {
   "cell_type": "code",
   "execution_count": 270,
   "metadata": {},
   "outputs": [
    {
     "name": "stdout",
     "output_type": "stream",
     "text": [
      "moyenne =  32.80301339285714\n"
     ]
    }
   ],
   "source": [
    "mean = dfventeweb[\"price\"].mean()\n",
    "print(\"moyenne = \", mean)"
   ]
  },
  {
   "cell_type": "markdown",
   "metadata": {},
   "source": [
    "## Calcul du z_score pour chaque produit"
   ]
  },
  {
   "cell_type": "code",
   "execution_count": 272,
   "metadata": {},
   "outputs": [],
   "source": [
    "def outlier(data):\n",
    "    df_zscore = round((data[\"price\"]-mean)/std,2)\n",
    "    data.insert(column=\"Z-score\", value= df_zscore, loc= 4 )\n",
    "    dfzs = data[data[\"Z-score\"]>= 3] \n",
    "    \n",
    "    return dfzs\n"
   ]
  },
  {
   "cell_type": "code",
   "execution_count": 273,
   "metadata": {},
   "outputs": [],
   "source": [
    "dfzscore = outlier(dfventeweb)"
   ]
  },
  {
   "cell_type": "markdown",
   "metadata": {},
   "source": [
    "## Graphique en point de la répartition du z_score"
   ]
  },
  {
   "cell_type": "code",
   "execution_count": 274,
   "metadata": {},
   "outputs": [
    {
     "data": {
      "image/png": "[encoded data removed]",
      "text/plain": [
       "<Figure size 640x480 with 1 Axes>"
      ]
     },
     "metadata": {},
     "output_type": "display_data"
    }
   ],
   "source": [
    "plt.scatter(dfventeweb[\"Z-score\"],dfventeweb[\"product_id\"],label=\"Z_score\")\n",
    "plt.title(\"Représentation graphique du z_score\")\n",
    "plt.legend()\n",
    "plt.show()"
   ]
  },
  {
   "attachments": {},
   "cell_type": "markdown",
   "metadata": {},
   "source": [
    "## Représentation graphique de la population et des outlier"
   ]
  },
  {
   "cell_type": "code",
   "execution_count": 275,
   "metadata": {},
   "outputs": [
    {
     "data": {
      "image/png": "[encoded data removed]",
      "text/plain": [
       "<Figure size 640x480 with 1 Axes>"
      ]
     },
     "metadata": {},
     "output_type": "display_data"
    }
   ],
   "source": [
    "x1 = dfventeweb[\"product_id\"]\n",
    "y1 = dfventeweb[\"price\"]\n",
    "x = dfzscore[\"product_id\"]\n",
    "y= dfzscore[\"price\"]\n",
    "fig1 = plt.scatter(y1,x1,c=\"blue\",label=\"Population\")\n",
    "plt.title(\"Représentation des outliers au sein de la population\")\n",
    "fig2 = plt.scatter(y,x,c=\"red\",label=\"Outlier\")\n",
    "plt.legend()\n",
    "plt.show()\n"
   ]
  },
  {
   "cell_type": "markdown",
   "metadata": {},
   "source": [
    "## Calcul de l'écart interquartile "
   ]
  },
  {
   "cell_type": "code",
   "execution_count": 284,
   "metadata": {},
   "outputs": [],
   "source": [
    "def ei(new_dfventweb):\n",
    "    new_dfventweb = dfventeweb.sort_values(by = \"price\", ascending= True)\n",
    "    new_dfventweb = new_dfventweb[new_dfventweb[\"onsale_web\"] == 1]\n",
    "    Q3,Q1 = np.percentile(new_dfventweb[\"price\"], [75 ,25])\n",
    "    EI = round(Q3-Q1)\n",
    "    outlierinf = Q1-(1.5*EI)\n",
    "    outliersup = Q3+(1.5*EI)\n",
    "    print(\"Q3=\", Q3, \"Q1=\", Q1, \"EI=\", EI, \", 50% des produits sont compris entre\",Q1,\"et\",Q3,\", les outlier on une limit Lower=\",outlierinf,\"et une limite Upper=\",outliersup)\n",
    "    return new_dfventweb"
   ]
  },
  {
   "cell_type": "code",
   "execution_count": 277,
   "metadata": {},
   "outputs": [
    {
     "name": "stdout",
     "output_type": "stream",
     "text": [
      "Q3= 43.075 Q1= 14.1 EI= 29 , 50% des produits sont compris entre 14.1 et 43.075 , les ouitlier on une limit Lower= -29.4 et une limite Upper= 86.575\n"
     ]
    }
   ],
   "source": [
    "new_ventweb = ei(dfventeweb)"
   ]
  },
  {
   "cell_type": "code",
   "execution_count": 278,
   "metadata": {},
   "outputs": [
    {
     "data": {
      "image/png": "[encoded data removed]",
      "text/plain": [
       "<Figure size 640x480 with 1 Axes>"
      ]
     },
     "metadata": {},
     "output_type": "display_data"
    }
   ],
   "source": [
    "fig = new_ventweb.boxplot(column=\"price\",notch=True, patch_artist=True,vert = 0)\n",
    "plt.title(\"Diagramme en boite\")\n",
    "plt.show()"
   ]
  },
  {
   "attachments": {},
   "cell_type": "markdown",
   "metadata": {},
   "source": [
    "## Anomalie ? "
   ]
  },
  {
   "attachments": {},
   "cell_type": "markdown",
   "metadata": {},
   "source": [
    "j'isole les produit mis en ligne et avec des ventes "
   ]
  },
  {
   "cell_type": "code",
   "execution_count": 279,
   "metadata": {},
   "outputs": [],
   "source": [
    "df_zscoreonligne = dfzscore[dfzscore[\"onsale_web\"] != 0] \n"
   ]
  },
  {
   "cell_type": "code",
   "execution_count": 280,
   "metadata": {},
   "outputs": [],
   "source": [
    "sales = df_zscoreonligne[df_zscoreonligne[\"total_sales\"] != 0]"
   ]
  },
  {
   "cell_type": "code",
   "execution_count": 281,
   "metadata": {},
   "outputs": [
    {
     "name": "stdout",
     "output_type": "stream",
     "text": [
      "le chiffre d'affaire pour les outlier est de 6563.4\n",
      "les outlier représente 9.3 % du chiffre d'affaire\n"
     ]
    }
   ],
   "source": [
    "print(\"le chiffre d'affaire pour les outlier est de\",df_zscoreonligne[\"chiffre_d_affaire\"].sum() )\n",
    "print(\"les outlier représente\",round((df_zscoreonligne[\"chiffre_d_affaire\"].sum()/ dfventeweb[\"chiffre_d_affaire\"].sum())*100,2),\"%\", \"du chiffre d'affaire\")"
   ]
  },
  {
   "attachments": {},
   "cell_type": "markdown",
   "metadata": {},
   "source": [
    "Produit ayant 0 vente "
   ]
  },
  {
   "cell_type": "code",
   "execution_count": 282,
   "metadata": {},
   "outputs": [],
   "source": [
    "nosales = df_zscoreonligne[df_zscoreonligne[\"total_sales\"] == 0]"
   ]
  },
  {
   "attachments": {},
   "cell_type": "markdown",
   "metadata": {},
   "source": [
    "Représentation des outliers avec et sans ventes"
   ]
  },
  {
   "cell_type": "code",
   "execution_count": 283,
   "metadata": {},
   "outputs": [
    {
     "data": {
      "image/png": "[encoded data removed]",
      "text/plain": [
       "<Figure size 640x480 with 1 Axes>"
      ]
     },
     "metadata": {},
     "output_type": "display_data"
    }
   ],
   "source": [
    "x1 = sales[\"product_id\"]\n",
    "y1 = sales[\"price\"]\n",
    "x = nosales[\"product_id\"]\n",
    "y= nosales[\"price\"]\n",
    "fig1 = plt.scatter(y1,x1,c=\"green\",label=\"produit ayant un CA\")\n",
    "plt.title(\"Représentation des outliers avec des ventes en vers et sans vente en rouge\")\n",
    "fig2 = plt.scatter(y,x,c=\"red\",label=\"produit n'ayant pas de CA\")\n",
    "plt.legend()\n",
    "plt.show()"
   ]
  }
 ],
 "metadata": {
  "kernelspec": {
   "display_name": "Python 3.10.7 64-bit",
   "language": "python",
   "name": "python3"
  },
  "language_info": {
   "codemirror_mode": {
    "name": "ipython",
    "version": 3
   },
   "file_extension": ".py",
   "mimetype": "text/x-python",
   "name": "python",
   "nbconvert_exporter": "python",
   "pygments_lexer": "ipython3",
   "version": "3.10.7"
  },
  "orig_nbformat": 4,
  "vscode": {
   "interpreter": {
    "hash": "0b072a736dc49dd352519221f10997e2e41fb14634a9bb11dc735f3559d54570"
   }
  }
 },
 "nbformat": 4,
 "nbformat_minor": 2
}
